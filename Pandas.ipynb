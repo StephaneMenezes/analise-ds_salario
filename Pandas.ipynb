{
  "nbformat": 4,
  "nbformat_minor": 0,
  "metadata": {
    "colab": {
      "private_outputs": true,
      "provenance": []
    },
    "kernelspec": {
      "name": "python3",
      "display_name": "Python 3"
    },
    "language_info": {
      "name": "python"
    }
  },
  "cells": [
    {
      "cell_type": "markdown",
      "source": [
        "# Salarios de DataScience: Análise de salários de trabalhos relacionados a área de dados. "
      ],
      "metadata": {
        "id": "nXK3sR3pCGAg"
      }
    },
    {
      "cell_type": "markdown",
      "source": [
        "NOTA: Este conjunto de dados foi obtido no Kaggle (https://www.kaggle.com/datasets/arnabchaki/data-science-salaries-2023)\n",
        "\n",
        "Sobre o conjunto de dados: O conjunto de dados de salários de empregos de Ciência de Dados contém 11 colunas, cada uma delas:\n",
        "\n",
        "**work_year:** O ano em que o salário foi pago.\n",
        "experience_level: O nível de experiência no trabalho durante o ano.\n",
        "\n",
        "**employment_type:** O tipo de emprego para o cargo.\n",
        "\n",
        "**job_title:** O cargo ocupado durante o ano.\n",
        "\n",
        "**salary:** O valor total do salário bruto pago.\n",
        "\n",
        "**salary_currency:** A moeda do salário pago, conforme um código de moeda ISO 4217.\n",
        "salary_in_usd: O salário em dólares americanos (USD).\n",
        "\n",
        "**employee_residence:** País de residência principal do empregado durante o ano de trabalho, como um código de país ISO 3166.\n",
        "\n",
        "**remote_ratio:** A quantidade geral de trabalho feito remotamente.\n",
        "\n",
        "**company_location:** O país da sede do empregador ou filial contratante.\n",
        "\n",
        "**company_size:** O número médio de pessoas que trabalharam para a empresa durante o ano."
      ],
      "metadata": {
        "id": "W3EBhG19BvGE"
      }
    },
    {
      "cell_type": "code",
      "execution_count": null,
      "metadata": {
        "id": "2VKqcSnpsskw"
      },
      "outputs": [],
      "source": [
        "import pandas as pd"
      ]
    },
    {
      "cell_type": "code",
      "source": [
        "df = pd.read_csv('ds_salaries.csv')"
      ],
      "metadata": {
        "id": "yPKryam-t3wf"
      },
      "execution_count": null,
      "outputs": []
    },
    {
      "cell_type": "code",
      "source": [
        "df.head(5)"
      ],
      "metadata": {
        "id": "wxhHwU9JuKjg"
      },
      "execution_count": null,
      "outputs": []
    },
    {
      "cell_type": "code",
      "source": [
        "#Verificando o tamanho do dataset\n",
        "df.shape"
      ],
      "metadata": {
        "id": "bE6iAHrrMuol"
      },
      "execution_count": null,
      "outputs": []
    },
    {
      "cell_type": "code",
      "source": [
        "#Verificando informações do dataset\n",
        "df.info()"
      ],
      "metadata": {
        "id": "WQmO2onh8480"
      },
      "execution_count": null,
      "outputs": []
    },
    {
      "cell_type": "code",
      "source": [
        "df.describe()"
      ],
      "metadata": {
        "id": "q7DwvNj4NBzH"
      },
      "execution_count": null,
      "outputs": []
    },
    {
      "cell_type": "code",
      "source": [
        "#Verificando a correlação entre as colunas\n",
        "df.corr()"
      ],
      "metadata": {
        "id": "5XUOpiFfudwU"
      },
      "execution_count": null,
      "outputs": []
    },
    {
      "cell_type": "markdown",
      "source": [
        "# Com base nas correlações, podemos verificar que: \n",
        "\n",
        "**work_year** tem uma correlação positiva \n",
        "moderada com salary_in_usd, o que indica que quanto mais anos de trabalho, maior o salário em dolar. \n",
        "\n",
        "\n",
        "**salary_in_usd** tem uma correlação positiva fraca com remote_ratio, o que sugere que aqueles que trabalham remotamente tendem a ganhar mais em dólares do que aqueles que não trabalham remotamente.\n"
      ],
      "metadata": {
        "id": "qlP2Wca0usWL"
      }
    },
    {
      "cell_type": "markdown",
      "source": [
        "# Realizando algumas alterações no DataSet"
      ],
      "metadata": {
        "id": "7RIri3eByV7J"
      }
    },
    {
      "cell_type": "markdown",
      "source": [
        "**Verifiquei os niveís de experiência estão em um formato de: SE = Senior, MI = Mid , EN = Entry e Ex = Executive**"
      ],
      "metadata": {
        "id": "17I27QglyeIT"
      }
    },
    {
      "cell_type": "code",
      "source": [
        "xp_level = df['experience_level'].unique()\n",
        "print(xp_level)"
      ],
      "metadata": {
        "id": "IW1WKtJivAY0"
      },
      "execution_count": null,
      "outputs": []
    },
    {
      "cell_type": "code",
      "source": [
        "#Criando uma função para redefinir valores: \n",
        "#A função Redefinir_valores recebe três argumentos , o nome da coluna do Dataframe e em seguida o metodo replace que é aplicado\n",
        "#a essa coluna, substituindo todas as ocorrencias do valor antigo (valor_antigo) pelo novo (novo_valor): \n",
        "\n",
        "def Redefinir_Valores(nome_coluna,valor_antigo,novo_valor):\n",
        "  df[nome_coluna] = df[nome_coluna].replace(valor_antigo,novo_valor)"
      ],
      "metadata": {
        "id": "oX694IqMwdCC"
      },
      "execution_count": null,
      "outputs": []
    },
    {
      "cell_type": "code",
      "source": [
        "Redefinir_Valores('experience_level','SE','Senior Level')\n",
        "Redefinir_Valores('experience_level','MI','Mid Level')\n",
        "Redefinir_Valores('experience_level','EN','Entry Level')\n",
        "Redefinir_Valores('experience_level','EX','Executive Level')"
      ],
      "metadata": {
        "id": "WyecDNlqwaq-"
      },
      "execution_count": null,
      "outputs": []
    },
    {
      "cell_type": "code",
      "source": [
        "xp_level = df['experience_level'].unique()\n",
        "print(xp_level)"
      ],
      "metadata": {
        "id": "ZReEC8CKurTN"
      },
      "execution_count": null,
      "outputs": []
    },
    {
      "cell_type": "code",
      "source": [
        " tipo_emprego= df['employment_type'].unique()\n",
        "print(tipo_emprego)"
      ],
      "metadata": {
        "id": "FTSG_Dap1IWs"
      },
      "execution_count": null,
      "outputs": []
    },
    {
      "cell_type": "code",
      "source": [
        "Redefinir_Valores('employment_type','FT','Full Time')\n",
        "Redefinir_Valores('employment_type','PT','Part Time')\n",
        "Redefinir_Valores('employment_type','CT','Contract')\n",
        "Redefinir_Valores('employment_type','FL','Freelancing')"
      ],
      "metadata": {
        "id": "Y8tbcygJ1aSR"
      },
      "execution_count": null,
      "outputs": []
    },
    {
      "cell_type": "code",
      "source": [
        "tipo_emprego= df['employment_type'].unique()\n",
        "print(tipo_emprego)"
      ],
      "metadata": {
        "id": "rWjvoPgu1wPn"
      },
      "execution_count": null,
      "outputs": []
    },
    {
      "cell_type": "code",
      "source": [
        "tamanho_empresa= df['company_size'].unique()\n",
        "print(tamanho_empresa)"
      ],
      "metadata": {
        "id": "wZpBlZPV16bX"
      },
      "execution_count": null,
      "outputs": []
    },
    {
      "cell_type": "code",
      "source": [
        "Redefinir_Valores('company_size','M','Medium')\n",
        "Redefinir_Valores('company_size','L','Large')\n",
        "Redefinir_Valores('company_size','S','Small')"
      ],
      "metadata": {
        "id": "LAPMoTbe2DZO"
      },
      "execution_count": null,
      "outputs": []
    },
    {
      "cell_type": "code",
      "source": [
        "tamanho_empresa= df['company_size'].unique()\n",
        "print(tamanho_empresa)"
      ],
      "metadata": {
        "id": "1PrfaLPR2bqI"
      },
      "execution_count": null,
      "outputs": []
    },
    {
      "cell_type": "code",
      "source": [
        "remoto= df['remote_ratio'].unique()\n",
        "print(remoto)"
      ],
      "metadata": {
        "id": "jP2BIdC72vOw"
      },
      "execution_count": null,
      "outputs": []
    },
    {
      "cell_type": "code",
      "source": [
        "Redefinir_Valores('remote_ratio',0,'Onsite')\n",
        "Redefinir_Valores('remote_ratio',100,'Remote')\n",
        "Redefinir_Valores('remote_ratio',50,'Hybrid')\n",
        "Redefinir_Valores('job_title','Machine Learning Engineer','ML Engineer')"
      ],
      "metadata": {
        "id": "baujNcSq2c6v"
      },
      "execution_count": null,
      "outputs": []
    },
    {
      "cell_type": "code",
      "source": [
        "remoto= df['remote_ratio'].unique()\n",
        "print(remoto)"
      ],
      "metadata": {
        "id": "Mg3hHaye284n"
      },
      "execution_count": null,
      "outputs": []
    },
    {
      "cell_type": "code",
      "source": [
        "!pip install pycountry\n",
        "\n",
        "#import pycountry"
      ],
      "metadata": {
        "id": "_020JQtm3pIc"
      },
      "execution_count": null,
      "outputs": []
    },
    {
      "cell_type": "code",
      "source": [
        "import pycountry as pc"
      ],
      "metadata": {
        "id": "SUJCD1j34E52"
      },
      "execution_count": null,
      "outputs": []
    },
    {
      "cell_type": "code",
      "source": [
        "#Convertendo as colunas company_location e employee_residence de códigos ISO para seus nomes de países correspondentes (por exemplo, US para Estados Unidos, CA para Canadá, IN para Índia etc.).\n",
        "df['employee_residence'] = df['employee_residence'].apply(lambda x: pc.countries.get(alpha_2 = x).name)\n",
        "df['company_location'] = df['company_location'].apply(lambda x: pc.countries.get(alpha_2 = x).name)"
      ],
      "metadata": {
        "id": "7Pj_shqB4HOU"
      },
      "execution_count": null,
      "outputs": []
    },
    {
      "cell_type": "code",
      "source": [
        "residencia= df['employee_residence'].unique()\n",
        "print(residencia)"
      ],
      "metadata": {
        "id": "Hcux--uY4gL8"
      },
      "execution_count": null,
      "outputs": []
    },
    {
      "cell_type": "code",
      "source": [
        "local= df['company_location'].unique()\n",
        "print(local)"
      ],
      "metadata": {
        "id": "QQuXgKgN4sod"
      },
      "execution_count": null,
      "outputs": []
    },
    {
      "cell_type": "code",
      "source": [
        "#Apagando as colunas salary e salary currency pois vamos utilizar apenas a coluna de salarios em doláres: \n",
        "\n",
        "df.drop(['salary','salary_currency'],axis = 1,inplace = True)"
      ],
      "metadata": {
        "id": "B4nxVOdL40Tk"
      },
      "execution_count": null,
      "outputs": []
    },
    {
      "cell_type": "code",
      "source": [
        "df.head(5)"
      ],
      "metadata": {
        "id": "dFKDM3ff5Hu2"
      },
      "execution_count": null,
      "outputs": []
    },
    {
      "cell_type": "code",
      "source": [
        "df.info()"
      ],
      "metadata": {
        "id": "uaOVVt9I5ui1"
      },
      "execution_count": null,
      "outputs": []
    },
    {
      "cell_type": "code",
      "source": [
        "import matplotlib.pyplot as plt"
      ],
      "metadata": {
        "id": "ptqtSzIF50Ps"
      },
      "execution_count": null,
      "outputs": []
    },
    {
      "cell_type": "code",
      "source": [
        "ano= df['work_year'].unique()\n",
        "print(ano)"
      ],
      "metadata": {
        "id": "QKol_wpx8OTc"
      },
      "execution_count": null,
      "outputs": []
    },
    {
      "cell_type": "code",
      "source": [
        "# Agrupar os dados por ano e calcular a média dos salários\n",
        "grouped = df.groupby('work_year')['salary_in_usd'].mean()\n",
        "\n",
        "# Plotando o gráfico de barras\n",
        "grouped.plot.bar(x='work_year', y='salary_in_usd', rot=0, color = 'navy')\n",
        "plt.title('Média de Salários por Ano')\n",
        "plt.xlabel('Ano')\n",
        "plt.ylabel('Média de Salário (em USD)')\n",
        "plt.show()"
      ],
      "metadata": {
        "id": "vw0X83VZ6PXc"
      },
      "execution_count": null,
      "outputs": []
    },
    {
      "cell_type": "code",
      "source": [
        "# Plotando o gráfico de barras - Média salarial por nível de experiência\n",
        "grouped_2 = df.groupby('experience_level')['salary_in_usd'].mean()\n",
        "\n",
        "# Ordenando em ordem decrescente\n",
        "grouped_2 = grouped_2.sort_values(ascending=False)\n",
        "\n",
        "grouped_2.plot.bar(x='experience_level', y='salary_in_usd', rot=0, color = 'navy')\n",
        "plt.title('Média de Salários por Nível de Experiência')\n",
        "plt.xlabel('Nível de Experiência')\n",
        "plt.ylabel('Média de Salário (em USD)')\n",
        "plt.show()"
      ],
      "metadata": {
        "id": "O6ccssKi67zS"
      },
      "execution_count": null,
      "outputs": []
    },
    {
      "cell_type": "code",
      "source": [
        "# Plotando o gráfico de barras - Média salarial por tipo de trabalho: \n",
        "grouped_3 = df.groupby('employment_type')['salary_in_usd'].mean()\n",
        "\n",
        "# Ordenando em ordem decrescente\n",
        "grouped_3 = grouped_3.sort_values(ascending=False)\n",
        "\n",
        "grouped_3.plot.bar(x='employment_type', y='salary_in_usd', rot=0, color = 'navy')\n",
        "plt.title('Média de Salários por Nível de Experiência')\n",
        "plt.xlabel('Tipo de trabalho')\n",
        "plt.ylabel('Média de Salário (em USD)')\n",
        "plt.show()"
      ],
      "metadata": {
        "id": "7wC7O3UN-QXE"
      },
      "execution_count": null,
      "outputs": []
    },
    {
      "cell_type": "code",
      "source": [
        "# Agrupando dados por job_title e calculando a média dos salários\n",
        "grouped_4 = df.groupby('job_title')['salary_in_usd'].mean().sort_values().head(10)\n",
        "\n",
        "# Plotando o gráfico de barras horizontalmente\n",
        "fig, ax = plt.subplots(figsize=(7, 5))\n",
        "ax.barh(grouped_4.index, grouped_4.values, color='purple')\n",
        "ax.set_title('Média de Salários por Job Title')\n",
        "ax.set_xlabel('Média de Salário (em USD)')\n",
        "ax.set_ylabel('Job Title')\n",
        "plt.show()\n"
      ],
      "metadata": {
        "id": "uINHp29m-wnS"
      },
      "execution_count": null,
      "outputs": []
    },
    {
      "cell_type": "code",
      "source": [
        "#company_size\n",
        "\n",
        "# Plotando o gráfico de barras - Média salarial por tipo de trabalho: \n",
        "grouped_5 = df.groupby('company_size')['salary_in_usd'].mean()\n",
        "\n",
        "# Ordenando em ordem decrescente\n",
        "grouped_5 = grouped_5.sort_values(ascending=False)\n",
        "\n",
        "grouped_5.plot.bar(x='employment_type', y='salary_in_usd', rot=0, color = 'navy')\n",
        "plt.title('Média de Salários por Nível de Experiência')\n",
        "plt.xlabel('Tipo de Empresa')\n",
        "plt.ylabel('Média de Salário (em USD)')\n",
        "plt.show()\n"
      ],
      "metadata": {
        "id": "eHosYrZmAKAS"
      },
      "execution_count": null,
      "outputs": []
    },
    {
      "cell_type": "code",
      "source": [
        "num_foreign_workers = len(df[df['employee_residence'] != df['company_location']])\n",
        "#print(f\"Existem {num_foreign_workers} pessoas trabalhando para empresas fora de sua residência.\")\n",
        "\n",
        "percent_foreign = (num_foreign_workers / len(df)) * 100\n",
        "print(f\"{percent_foreign:.2f}% das pessoas trabalham para empresas fora de seu país.\")\n"
      ],
      "metadata": {
        "id": "_a7qh_hcFBeG"
      },
      "execution_count": null,
      "outputs": []
    },
    {
      "cell_type": "code",
      "source": [
        "num_non_foreign_workers = len(df[df['employee_residence'] == df['company_location']])\n",
        "#print(f\"Existem {num_foreign_workers} pessoas trabalhando para empresas fora de sua residência.\")\n",
        "\n",
        "percent_foreign = (num_non_foreign_workers / len(df)) * 100\n",
        "print(f\"{percent_foreign:.2f}% das pessoas trabalham para empresas em seu país.\")"
      ],
      "metadata": {
        "id": "tNbchpp_FpbE"
      },
      "execution_count": null,
      "outputs": []
    },
    {
      "cell_type": "code",
      "source": [
        "df.head(5)"
      ],
      "metadata": {
        "id": "qIrOGNwpKqeR"
      },
      "execution_count": null,
      "outputs": []
    },
    {
      "cell_type": "code",
      "source": [
        "#Exportar o arquivo:\n",
        "\n",
        "df.to_csv('salarios_ds.csv', index=False)\n"
      ],
      "metadata": {
        "id": "3ECgpwpHK5wr"
      },
      "execution_count": null,
      "outputs": []
    }
  ]
}